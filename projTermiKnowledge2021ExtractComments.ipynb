{
  "nbformat": 4,
  "nbformat_minor": 0,
  "metadata": {
    "colab": {
      "name": "projTermiKnowledge2021ExtractComments.ipynb",
      "provenance": [],
      "collapsed_sections": [],
      "authorship_tag": "ABX9TyP8ADXMw5d72cZ11hwu0VHG",
      "include_colab_link": true
    },
    "kernelspec": {
      "name": "python3",
      "display_name": "Python 3"
    },
    "language_info": {
      "name": "python"
    }
  },
  "cells": [
    {
      "cell_type": "markdown",
      "metadata": {
        "id": "view-in-github",
        "colab_type": "text"
      },
      "source": [
        "<a href=\"https://colab.research.google.com/github/iued-uni-heidelberg/projTermiKnowledge/blob/main/projTermiKnowledge2021ExtractComments.ipynb\" target=\"_parent\"><img src=\"https://colab.research.google.com/assets/colab-badge.svg\" alt=\"Open In Colab\"/></a>"
      ]
    },
    {
      "cell_type": "markdown",
      "metadata": {
        "id": "PJQzaR4ilTSS"
      },
      "source": [
        "This notebook pre-processes files in a \"projCorpus\" directory and extracts user comments from the webpage.\n",
        "\n",
        "The process has been created for the articles on this website:\n",
        "\n",
        "\n",
        "It can be adjusted to other articles with known format."
      ]
    },
    {
      "cell_type": "code",
      "metadata": {
        "colab": {
          "base_uri": "https://localhost:8080/"
        },
        "id": "SJ0RqDcQloDc",
        "outputId": "406b599c-5c50-469f-839d-0a3557b5dcd3"
      },
      "source": [
        "# download the archive file with a directory, where the html files are stored:\n",
        "!wget https://heibox.uni-heidelberg.de/f/ac9dae5cf1d9453bb3d0/?dl=1"
      ],
      "execution_count": 1,
      "outputs": [
        {
          "output_type": "stream",
          "name": "stdout",
          "text": [
            "--2021-10-08 08:23:58--  https://heibox.uni-heidelberg.de/f/ac9dae5cf1d9453bb3d0/?dl=1\n",
            "Resolving heibox.uni-heidelberg.de (heibox.uni-heidelberg.de)... 129.206.7.113\n",
            "Connecting to heibox.uni-heidelberg.de (heibox.uni-heidelberg.de)|129.206.7.113|:443... connected.\n",
            "HTTP request sent, awaiting response... 302 Found\n",
            "Location: https://heibox.uni-heidelberg.de/seafhttp/files/1d029934-f7a3-4b60-bc22-bf2a2576a1a1/projCorpus.zip [following]\n",
            "--2021-10-08 08:23:59--  https://heibox.uni-heidelberg.de/seafhttp/files/1d029934-f7a3-4b60-bc22-bf2a2576a1a1/projCorpus.zip\n",
            "Reusing existing connection to heibox.uni-heidelberg.de:443.\n",
            "HTTP request sent, awaiting response... 200 OK\n",
            "Length: 1586160 (1.5M) [application/zip]\n",
            "Saving to: ‘index.html?dl=1’\n",
            "\n",
            "index.html?dl=1     100%[===================>]   1.51M  2.16MB/s    in 0.7s    \n",
            "\n",
            "2021-10-08 08:23:59 (2.16 MB/s) - ‘index.html?dl=1’ saved [1586160/1586160]\n",
            "\n"
          ]
        }
      ]
    },
    {
      "cell_type": "code",
      "metadata": {
        "id": "ZCWjDd93l90k"
      },
      "source": [
        "# rename the file:\n",
        "!mv index.html\\?dl\\=1 projCorpus.zip"
      ],
      "execution_count": 2,
      "outputs": []
    },
    {
      "cell_type": "code",
      "metadata": {
        "colab": {
          "base_uri": "https://localhost:8080/"
        },
        "id": "IYCVuc0zmNc3",
        "outputId": "9ac88770-6749-42a0-c321-798900f31a95"
      },
      "source": [
        "# extract corpus\n",
        "!unzip projCorpus.zip"
      ],
      "execution_count": 3,
      "outputs": [
        {
          "output_type": "stream",
          "name": "stdout",
          "text": [
            "Archive:  projCorpus.zip\n",
            "   creating: projCorpus/\n",
            "  inflating: projCorpus/Enter Air wysyła samolot po pasażerów. Komunikat MSZ_ Wszyscy polscy obywatele są bezpieczni.mhtml  \n",
            "   creating: __MACOSX/\n",
            "   creating: __MACOSX/projCorpus/\n",
            "  inflating: __MACOSX/projCorpus/._Enter Air wysyła samolot po pasażerów. Komunikat MSZ_ Wszyscy polscy obywatele są bezpieczni.mhtml  \n",
            "  inflating: projCorpus/Siatkarska układanka Ryszarda Czarneckiego. Wśród działaczy krąży nagranie - blog Salon24 news.mhtml  \n",
            "  inflating: __MACOSX/projCorpus/._Siatkarska układanka Ryszarda Czarneckiego. Wśród działaczy krąży nagranie - blog Salon24 news.mhtml  \n"
          ]
        }
      ]
    },
    {
      "cell_type": "code",
      "metadata": {
        "id": "UH1DDBZCnZhD"
      },
      "source": [
        "# optional: remove zip file -- to save space\n",
        "!rm projCorpus.zip"
      ],
      "execution_count": 4,
      "outputs": []
    },
    {
      "cell_type": "markdown",
      "metadata": {
        "id": "9_Q-vhzRBlKO"
      },
      "source": [
        "creating a class for walking through directories and processing html files"
      ]
    },
    {
      "cell_type": "code",
      "metadata": {
        "id": "dNXlIZu-BwIs"
      },
      "source": [
        "# -*- coding: utf-8 -*-\n",
        "# Python script to open each file, read json input and copy to one text file for subsequent processing\n",
        "import os, re, sys\n",
        "\n",
        "\n",
        "class clHtml2txt(object):\n",
        "    '''\n",
        "    @author Bogdan Babych, IÜD, Heidelberg University\n",
        "    '''\n",
        "    def __init__(self, SDirName = 'projCorpus', SOutFile = 'projCorpus-out.txt'):\n",
        "        self.InputDir = SDirName\n",
        "        self.OutputFile = SOutFile\n",
        "        self.ID = 100000\n",
        "        self.STag = 'doc'\n",
        "        # calling a function for walking directories\n",
        "        self.openDir(self.InputDir)\n",
        "        return\n",
        "\n",
        "    def openDir(self, path): # implementation of recursively openning directories from a given rule directory and reading each file recursively into a string\n",
        "\n",
        "        FOut = open(self.OutputFile, 'w')\n",
        "\n",
        "        for root,d_names,f_names in os.walk(path):\n",
        "            i = 0\n",
        "            for f in f_names:\n",
        "                i+=1\n",
        "                if i%1==0: print(str(i) + '. Processing: ' + f)\n",
        "                fullpath = os.path.join(root, f)\n",
        "                # print(fullpath)\n",
        "                try:\n",
        "                    FIn = open(fullpath,'r')\n",
        "                    SIn = FIn.read()\n",
        "\n",
        "                    SText2Write = self.procFile(SIn,f,i)\n",
        "                    if SText2Write: FOut.write(SText2Write) # if the string is not empty then write to file\n",
        "                    FIn.close()\n",
        "                except:\n",
        "                    print(f'file {f} cannot be read or processed')\n",
        "\n",
        "        FOut.flush()\n",
        "        FOut.close()\n",
        "\n",
        "        return\n",
        "\n",
        "    def procFile(self, SIn,SFNameIn,i):\n",
        "        SText2Write = ''\n",
        "        '''\n",
        "        processing an individual file: finding comments and returning them as a string to write\n",
        "        '''\n",
        "        STagOpen = '<' + self.STag + ' id=\"' + self.STag + str(self.ID + i)  + '\">\\n'\n",
        "        STagClose = '\\n</' + self.STag + '>\\n\\n'\n",
        "        SText4Corpus = self.getArticleNComments(SIn, SFNameIn)\n",
        "\n",
        "        if SText4Corpus:\n",
        "            return STagOpen + SText4Corpus + STagClose\n",
        "        else:\n",
        "            print('\\tNo data read from: ' + SFNameIn)\n",
        "            return None\n",
        "\n",
        "\n",
        "\n",
        "    def getArticleNComments(self, SIn, SFNameIn):\n",
        "        SIn = re.sub('=\\n', '', SIn, flags = re.MULTILINE | re.DOTALL)\n",
        "        SText4Corpus = ''\n",
        "\n",
        "        LParagraphs = re.findall('<p class=\"art_paragraph\">(.+)</p>', SIn, flags = re.MULTILINE | re.DOTALL)\n",
        "        SParagraphs = '\\n\\n'.join(LParagraphs)\n",
        "        SParagraphs = re.sub('<.+?>', '', SParagraphs, flags = re.MULTILINE)\n",
        "\n",
        "        LComments4Corpus = re.findall('<div class=3D\"commentsApp__commentBody\">(.+)</div>', SIn, flags = re.MULTILINE | re.DOTALL)\n",
        "        SComments4Corpus = '\\n\\n'.join(LComments4Corpus)\n",
        "        SComments4Corpus = re.sub('<.+?>', '', SComments4Corpus, flags = re.MULTILINE)\n",
        "        \n",
        "        return SParagraphs, SComments4Corpus"
      ],
      "execution_count": 8,
      "outputs": []
    },
    {
      "cell_type": "code",
      "metadata": {
        "colab": {
          "base_uri": "https://localhost:8080/",
          "height": 307
        },
        "id": "Hx4jUT0QLi8l",
        "outputId": "ec474a5d-88e9-48ee-9e9a-adc0026c893c"
      },
      "source": [
        "OHtml2txt = clHtml2txt()"
      ],
      "execution_count": 7,
      "outputs": [
        {
          "output_type": "error",
          "ename": "UnboundLocalError",
          "evalue": "ignored",
          "traceback": [
            "\u001b[0;31m---------------------------------------------------------------------------\u001b[0m",
            "\u001b[0;31mUnboundLocalError\u001b[0m                         Traceback (most recent call last)",
            "\u001b[0;32m<ipython-input-7-df92b9465d7d>\u001b[0m in \u001b[0;36m<module>\u001b[0;34m()\u001b[0m\n\u001b[0;32m----> 1\u001b[0;31m \u001b[0mOHtml2txt\u001b[0m \u001b[0;34m=\u001b[0m \u001b[0mclHtml2txt\u001b[0m\u001b[0;34m(\u001b[0m\u001b[0;34m)\u001b[0m\u001b[0;34m\u001b[0m\u001b[0;34m\u001b[0m\u001b[0m\n\u001b[0m",
            "\u001b[0;32m<ipython-input-6-88322f303290>\u001b[0m in \u001b[0;36m__init__\u001b[0;34m(self, SDirName, SOutFile)\u001b[0m\n\u001b[1;32m     14\u001b[0m         \u001b[0mself\u001b[0m\u001b[0;34m.\u001b[0m\u001b[0mSTag\u001b[0m \u001b[0;34m=\u001b[0m \u001b[0;34m'doc'\u001b[0m\u001b[0;34m\u001b[0m\u001b[0;34m\u001b[0m\u001b[0m\n\u001b[1;32m     15\u001b[0m         \u001b[0;31m# calling a function for walking directories\u001b[0m\u001b[0;34m\u001b[0m\u001b[0;34m\u001b[0m\u001b[0;34m\u001b[0m\u001b[0m\n\u001b[0;32m---> 16\u001b[0;31m         \u001b[0mself\u001b[0m\u001b[0;34m.\u001b[0m\u001b[0mopenDir\u001b[0m\u001b[0;34m(\u001b[0m\u001b[0mself\u001b[0m\u001b[0;34m.\u001b[0m\u001b[0mInputDir\u001b[0m\u001b[0;34m)\u001b[0m\u001b[0;34m\u001b[0m\u001b[0;34m\u001b[0m\u001b[0m\n\u001b[0m\u001b[1;32m     17\u001b[0m         \u001b[0;32mreturn\u001b[0m\u001b[0;34m\u001b[0m\u001b[0;34m\u001b[0m\u001b[0m\n\u001b[1;32m     18\u001b[0m \u001b[0;34m\u001b[0m\u001b[0m\n",
            "\u001b[0;32m<ipython-input-6-88322f303290>\u001b[0m in \u001b[0;36mopenDir\u001b[0;34m(self, path)\u001b[0m\n\u001b[1;32m     23\u001b[0m         \u001b[0;32mfor\u001b[0m \u001b[0mroot\u001b[0m\u001b[0;34m,\u001b[0m\u001b[0md_names\u001b[0m\u001b[0;34m,\u001b[0m\u001b[0mf_names\u001b[0m \u001b[0;32min\u001b[0m \u001b[0mos\u001b[0m\u001b[0;34m.\u001b[0m\u001b[0mwalk\u001b[0m\u001b[0;34m(\u001b[0m\u001b[0mpath\u001b[0m\u001b[0;34m)\u001b[0m\u001b[0;34m:\u001b[0m\u001b[0;34m\u001b[0m\u001b[0;34m\u001b[0m\u001b[0m\n\u001b[1;32m     24\u001b[0m             \u001b[0;32mfor\u001b[0m \u001b[0mf\u001b[0m \u001b[0;32min\u001b[0m \u001b[0mf_names\u001b[0m\u001b[0;34m:\u001b[0m\u001b[0;34m\u001b[0m\u001b[0;34m\u001b[0m\u001b[0m\n\u001b[0;32m---> 25\u001b[0;31m                 \u001b[0mi\u001b[0m\u001b[0;34m+=\u001b[0m\u001b[0;36m1\u001b[0m\u001b[0;34m\u001b[0m\u001b[0;34m\u001b[0m\u001b[0m\n\u001b[0m\u001b[1;32m     26\u001b[0m                 \u001b[0;32mif\u001b[0m \u001b[0mi\u001b[0m\u001b[0;34m%\u001b[0m\u001b[0;36m1000\u001b[0m\u001b[0;34m==\u001b[0m\u001b[0;36m0\u001b[0m\u001b[0;34m:\u001b[0m \u001b[0mprint\u001b[0m\u001b[0;34m(\u001b[0m\u001b[0mstr\u001b[0m\u001b[0;34m(\u001b[0m\u001b[0mi\u001b[0m\u001b[0;34m)\u001b[0m \u001b[0;34m+\u001b[0m \u001b[0;34m'. Processing: '\u001b[0m \u001b[0;34m+\u001b[0m \u001b[0mf\u001b[0m\u001b[0;34m)\u001b[0m\u001b[0;34m\u001b[0m\u001b[0;34m\u001b[0m\u001b[0m\n\u001b[1;32m     27\u001b[0m                 \u001b[0mfullpath\u001b[0m \u001b[0;34m=\u001b[0m \u001b[0mos\u001b[0m\u001b[0;34m.\u001b[0m\u001b[0mpath\u001b[0m\u001b[0;34m.\u001b[0m\u001b[0mjoin\u001b[0m\u001b[0;34m(\u001b[0m\u001b[0mroot\u001b[0m\u001b[0;34m,\u001b[0m \u001b[0mf\u001b[0m\u001b[0;34m)\u001b[0m\u001b[0;34m\u001b[0m\u001b[0;34m\u001b[0m\u001b[0m\n",
            "\u001b[0;31mUnboundLocalError\u001b[0m: local variable 'i' referenced before assignment"
          ]
        }
      ]
    }
  ]
}