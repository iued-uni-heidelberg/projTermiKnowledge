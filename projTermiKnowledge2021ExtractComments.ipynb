{
  "nbformat": 4,
  "nbformat_minor": 0,
  "metadata": {
    "colab": {
      "name": "projTermiKnowledge2021ExtractComments.ipynb",
      "provenance": [],
      "authorship_tag": "ABX9TyNkOPeyNHuqH3q8eq0t6iOz",
      "include_colab_link": true
    },
    "kernelspec": {
      "name": "python3",
      "display_name": "Python 3"
    },
    "language_info": {
      "name": "python"
    }
  },
  "cells": [
    {
      "cell_type": "markdown",
      "metadata": {
        "id": "view-in-github",
        "colab_type": "text"
      },
      "source": [
        "<a href=\"https://colab.research.google.com/github/iued-uni-heidelberg/projTermiKnowledge/blob/main/projTermiKnowledge2021ExtractComments.ipynb\" target=\"_parent\"><img src=\"https://colab.research.google.com/assets/colab-badge.svg\" alt=\"Open In Colab\"/></a>"
      ]
    },
    {
      "cell_type": "markdown",
      "metadata": {
        "id": "PJQzaR4ilTSS"
      },
      "source": [
        "This notebook pre-processes files in a \"projCorpus\" directory and extracts user comments from the webpage.\n",
        "\n",
        "The process has been created for the articles on this website:\n",
        "\n",
        "\n",
        "It can be adjusted to other articles with known format."
      ]
    },
    {
      "cell_type": "code",
      "metadata": {
        "colab": {
          "base_uri": "https://localhost:8080/"
        },
        "id": "SJ0RqDcQloDc",
        "outputId": "12c11ef8-021c-4e2b-e65f-ff8233c33483"
      },
      "source": [
        "# download the archive file with a directory, where the html files are stored:\n",
        "!wget https://heibox.uni-heidelberg.de/f/ac9dae5cf1d9453bb3d0/?dl=1"
      ],
      "execution_count": 1,
      "outputs": [
        {
          "output_type": "stream",
          "name": "stdout",
          "text": [
            "--2021-10-07 11:50:24--  https://heibox.uni-heidelberg.de/f/ac9dae5cf1d9453bb3d0/?dl=1\n",
            "Resolving heibox.uni-heidelberg.de (heibox.uni-heidelberg.de)... 129.206.7.113\n",
            "Connecting to heibox.uni-heidelberg.de (heibox.uni-heidelberg.de)|129.206.7.113|:443... connected.\n",
            "HTTP request sent, awaiting response... 302 Found\n",
            "Location: https://heibox.uni-heidelberg.de/seafhttp/files/d38b935c-099f-40c1-bced-86f23c060959/projCorpus.zip [following]\n",
            "--2021-10-07 11:50:24--  https://heibox.uni-heidelberg.de/seafhttp/files/d38b935c-099f-40c1-bced-86f23c060959/projCorpus.zip\n",
            "Reusing existing connection to heibox.uni-heidelberg.de:443.\n",
            "HTTP request sent, awaiting response... 200 OK\n",
            "Length: 1586160 (1.5M) [application/zip]\n",
            "Saving to: ‘index.html?dl=1’\n",
            "\n",
            "index.html?dl=1     100%[===================>]   1.51M  2.13MB/s    in 0.7s    \n",
            "\n",
            "2021-10-07 11:50:25 (2.13 MB/s) - ‘index.html?dl=1’ saved [1586160/1586160]\n",
            "\n"
          ]
        }
      ]
    },
    {
      "cell_type": "code",
      "metadata": {
        "id": "ZCWjDd93l90k"
      },
      "source": [
        "# rename the file:\n",
        "!mv index.html\\?dl\\=1 projCorpus.zip"
      ],
      "execution_count": 2,
      "outputs": []
    },
    {
      "cell_type": "code",
      "metadata": {
        "id": "IYCVuc0zmNc3"
      },
      "source": [
        "# extract corpus\n",
        "!unzip projCorpus.zip"
      ],
      "execution_count": null,
      "outputs": []
    },
    {
      "cell_type": "code",
      "metadata": {
        "id": "UH1DDBZCnZhD"
      },
      "source": [
        "# optional: remove zip file -- to save space\n",
        "!rm projCorpus.zip"
      ],
      "execution_count": 6,
      "outputs": []
    }
  ]
}