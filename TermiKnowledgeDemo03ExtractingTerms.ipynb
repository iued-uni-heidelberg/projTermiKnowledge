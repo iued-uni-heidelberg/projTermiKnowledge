{
  "nbformat": 4,
  "nbformat_minor": 0,
  "metadata": {
    "colab": {
      "name": "TermiKnowledgeDemo03ExtractingTerms.ipynb",
      "provenance": [],
      "collapsed_sections": [],
      "authorship_tag": "ABX9TyNNRRz9dK4Fx5fWK3KAykAY",
      "include_colab_link": true
    },
    "kernelspec": {
      "name": "python3",
      "display_name": "Python 3"
    },
    "language_info": {
      "name": "python"
    }
  },
  "cells": [
    {
      "cell_type": "markdown",
      "metadata": {
        "id": "view-in-github",
        "colab_type": "text"
      },
      "source": [
        "<a href=\"https://colab.research.google.com/github/iued-uni-heidelberg/projTermiKnowledge/blob/main/TermiKnowledgeDemo03ExtractingTerms.ipynb\" target=\"_parent\"><img src=\"https://colab.research.google.com/assets/colab-badge.svg\" alt=\"Open In Colab\"/></a>"
      ]
    },
    {
      "cell_type": "markdown",
      "metadata": {
        "id": "fbUUBKfU_fCO"
      },
      "source": [
        "# This notebook show some methods of terminology extraction\n",
        "\n",
        "1. Installing Part-of-Speech tagger for languages we need:\n",
        "\n",
        "English , German, Italian, Czech, Polish, "
      ]
    },
    {
      "cell_type": "code",
      "metadata": {
        "id": "MK8V1fjv_Qq4"
      },
      "source": [
        "%%bash\n",
        "mkdir treetagger\n",
        "cd treetagger\n",
        "# Download the tagger package for your system (PC-Linux, Mac OS-X, ARM64, ARMHF, ARM-Android, PPC64le-Linux).\n",
        "wget https://cis.lmu.de/~schmid/tools/TreeTagger/data/tree-tagger-linux-3.2.4.tar.gz\n",
        "tar -xzvf tree-tagger-linux-3.2.4.tar.gz\n",
        "# Download the tagging scripts into the same directory.\n",
        "wget https://cis.lmu.de/~schmid/tools/TreeTagger/data/tagger-scripts.tar.gz\n",
        "gunzip tagger-scripts.tar.gz\n",
        "# Download the installation script install-tagger.sh.\n",
        "wget https://cis.lmu.de/~schmid/tools/TreeTagger/data/install-tagger.sh\n",
        "# Download the parameter files for the languages you want to process.\n",
        "# list of all files (parameter files) https://cis.lmu.de/~schmid/tools/TreeTagger/#parfiles\n",
        "wget https://cis.lmu.de/~schmid/tools/TreeTagger/data/english.par.gz\n",
        "sh install-tagger.sh\n",
        "cd ..\n",
        "sudo pip install treetaggerwrapper"
      ],
      "execution_count": null,
      "outputs": []
    },
    {
      "cell_type": "code",
      "metadata": {
        "id": "aDzr0yDrQgo9"
      },
      "source": [
        "%%bash\n",
        "wget https://heibox.uni-heidelberg.de/f/95a3875771c040db959a/?dl=1\n",
        "mv index.html?dl=1 humanrights02.txt\n",
        "\n",
        "wget https://heibox.uni-heidelberg.de/f/a79b829e15c24dbd9e77/?dl=1\n",
        "mv index.html?dl=1 covid3m-en.txt\n",
        "\n",
        "wget https://heibox.uni-heidelberg.de/f/e3c1edbcec9649f5b4c4/?dl=1\n",
        "mv index.html?dl=1 TED2020-enka-en.txt"
      ],
      "execution_count": null,
      "outputs": []
    },
    {
      "cell_type": "code",
      "metadata": {
        "colab": {
          "base_uri": "https://localhost:8080/"
        },
        "id": "nxM3Uw8wRRjd",
        "outputId": "cdf9470c-8dae-4848-b53c-df4d93967259"
      },
      "source": [
        "!./treetagger/cmd/tree-tagger-english humanrights02.txt >humanrights02_vert.txt"
      ],
      "execution_count": null,
      "outputs": [
        {
          "output_type": "stream",
          "name": "stdout",
          "text": [
            "\treading parameters ...\n",
            "\ttagging ...\n",
            "1545000\t finished.\n"
          ]
        }
      ]
    },
    {
      "cell_type": "code",
      "metadata": {
        "colab": {
          "base_uri": "https://localhost:8080/"
        },
        "id": "gvKMOBGjRpZn",
        "outputId": "91027c9c-24fe-4e19-da3d-d4c46ef9cff4"
      },
      "source": [
        "!head --lines=20 humanrights02_vert.txt"
      ],
      "execution_count": null,
      "outputs": [
        {
          "output_type": "stream",
          "name": "stdout",
          "text": [
            "<doc id=\"file22593149\" filename=\"108544.htm\" parent_folder=\"web1\" url=\"https://2009-2017.state.gov/j/drl/rls/irf/2008/108544.htm\">\n",
            "<p>\n",
            "ArchivedContent\tNP\t<unknown>\n",
            "</p>\n",
            "<p>\n",
            "Information\tNP\tInformation\n",
            "released\tVBD\trelease\n",
            "online\tJJ\tonline\n",
            "from\tIN\tfrom\n",
            "January\tNP\tJanuary\n",
            "20\tCD\t@card@\n",
            ",\t,\t,\n",
            "2009\tCD\t@card@\n",
            "to\tTO\tto\n",
            "January\tNP\tJanuary\n",
            "20\tCD\t@card@\n",
            ",\t,\t,\n",
            "2017\tCD\t@card@\n",
            ".\tSENT\t.\n",
            "Note\tNN\tnote\n"
          ]
        }
      ]
    }
  ]
}