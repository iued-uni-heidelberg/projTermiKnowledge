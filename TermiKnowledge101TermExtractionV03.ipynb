{
  "nbformat": 4,
  "nbformat_minor": 0,
  "metadata": {
    "colab": {
      "name": "TermiKnowledge101TermExtractionV03.ipynb",
      "provenance": [],
      "collapsed_sections": [],
      "authorship_tag": "ABX9TyPHgyF42yx2o+mCdoTDL5fQ",
      "include_colab_link": true
    },
    "kernelspec": {
      "name": "python3",
      "display_name": "Python 3"
    },
    "language_info": {
      "name": "python"
    }
  },
  "cells": [
    {
      "cell_type": "markdown",
      "metadata": {
        "id": "view-in-github",
        "colab_type": "text"
      },
      "source": [
        "<a href=\"https://colab.research.google.com/github/iued-uni-heidelberg/projTermiKnowledge/blob/main/TermiKnowledge101TermExtractionV03.ipynb\" target=\"_parent\"><img src=\"https://colab.research.google.com/assets/colab-badge.svg\" alt=\"Open In Colab\"/></a>"
      ]
    },
    {
      "cell_type": "code",
      "metadata": {
        "id": "8TbDY896MQph"
      },
      "source": [
        "%%bash\n",
        "mkdir treetagger\n",
        "cd treetagger\n",
        "# Download the tagger package for your system (PC-Linux, Mac OS-X, ARM64, ARMHF, ARM-Android, PPC64le-Linux).\n",
        "wget https://cis.lmu.de/~schmid/tools/TreeTagger/data/tree-tagger-linux-3.2.4.tar.gz\n",
        "tar -xzvf tree-tagger-linux-3.2.4.tar.gz\n",
        "# Download the tagging scripts into the same directory.\n",
        "wget https://cis.lmu.de/~schmid/tools/TreeTagger/data/tagger-scripts.tar.gz\n",
        "gunzip tagger-scripts.tar.gz\n",
        "# Download the installation script install-tagger.sh.\n",
        "wget https://cis.lmu.de/~schmid/tools/TreeTagger/data/install-tagger.sh\n",
        "# Download the parameter files for the languages you want to process.\n",
        "# list of all files (parameter files) https://cis.lmu.de/~schmid/tools/TreeTagger/#parfiles\n",
        "wget https://cis.lmu.de/~schmid/tools/TreeTagger/data/english.par.gz\n",
        "wget https://cis.lmu.de/~schmid/tools/TreeTagger/data/german.par.gz\n",
        "sh install-tagger.sh\n",
        "cd ..\n",
        "sudo pip install treetaggerwrapper"
      ],
      "execution_count": null,
      "outputs": []
    },
    {
      "cell_type": "code",
      "metadata": {
        "id": "hXODwDZ9MgF7"
      },
      "source": [
        "import treetaggerwrapper\n",
        "import pprint\n",
        "# treetaggerwrapper.TreeTagger(TAGLANG='en', TAGDIR='treetagger/')\n",
        "tagger = treetaggerwrapper.TreeTagger(TAGLANG='en', TAGDIR='treetagger/')"
      ],
      "execution_count": null,
      "outputs": []
    },
    {
      "cell_type": "code",
      "metadata": {
        "id": "F1-RX1FIMjSE"
      },
      "source": [
        "tags = tagger.tag_text(\"This is a very short text to tag.\")\n",
        "pprint.pprint(tags)"
      ],
      "execution_count": null,
      "outputs": []
    },
    {
      "cell_type": "code",
      "metadata": {
        "id": "a8QsHmdWNW-o"
      },
      "source": [
        "!wget https://heibox.uni-heidelberg.de/f/95a3875771c040db959a/?dl=1\n",
        "!mv index.html?dl=1 humanrights02.txt"
      ],
      "execution_count": null,
      "outputs": []
    },
    {
      "cell_type": "code",
      "metadata": {
        "id": "XSimycZcRcJZ"
      },
      "source": [
        "!wget https://heibox.uni-heidelberg.de/f/e3c1edbcec9649f5b4c4/?dl=1\n",
        "!mv index.html?dl=1 ted02.txt"
      ],
      "execution_count": null,
      "outputs": []
    },
    {
      "cell_type": "code",
      "metadata": {
        "id": "fjav43VXUVfj"
      },
      "source": [
        "!wget https://heibox.uni-heidelberg.de/f/15f7a67cccb24a0e9eba/?dl=1\n",
        "!mv index.html?dl=1 brown02.txt"
      ],
      "execution_count": null,
      "outputs": []
    },
    {
      "cell_type": "code",
      "metadata": {
        "id": "JRiYXffJUjhQ"
      },
      "source": [
        "!wget https://heibox.uni-heidelberg.de/f/cdf240db84ca4718b718/?dl=1\n",
        "!mv index.html?dl=1 go1984.txt"
      ],
      "execution_count": null,
      "outputs": []
    },
    {
      "cell_type": "code",
      "metadata": {
        "id": "dH5qCpzTRikV"
      },
      "source": [
        "# tree tagger"
      ],
      "execution_count": null,
      "outputs": []
    },
    {
      "cell_type": "code",
      "metadata": {
        "id": "vJIJclqtSReg"
      },
      "source": [
        ""
      ],
      "execution_count": 1,
      "outputs": []
    },
    {
      "cell_type": "code",
      "metadata": {
        "id": "-USzKNRceICA"
      },
      "source": [
        "import os, re, sys, time\n",
        "class clProcCorpus(object):\n",
        "    ''' we will read a text file and return a dictionary\n",
        "    this will be done on the line by line basis\n",
        "    The dictionary can be sorted later...\n",
        "    '''\n",
        "    # this is a class for processing a corpus\n",
        "\n",
        "    def __init__(self, FileIN):\n",
        "        self.DictFrq = {}\n",
        "        self.processCorpus(FileIN)\n",
        "\n",
        "    def processCorpus(self, FileIN):\n",
        "        LTerm = []\n",
        "        for Line in FileIN:\n",
        "            Line = Line.strip()\n",
        "            LLine = re.split('\\t', Line)\n",
        "            try:\n",
        "                Word = LLine[0]\n",
        "                PoS = LLine[1]\n",
        "                Lemma = LLine[2]\n",
        "            except:\n",
        "                Word = \"\"\n",
        "                PoS = \"\"\n",
        "                Lemma = \"\"\n",
        "            \n",
        "      #Select the Tags for your langauge\n",
        "            #if re.match('N.*', PoS) or re.match('A.*', PoS): #Arm\n",
        "            #if re.match('N.*', PoS) or re.match('ADJ.*', PoS): #DE\n",
        "            if re.match('N.*', PoS) or re.match('J.*', PoS): #EN\n",
        "\n",
        "      #Terms as Words or Lemmas\n",
        "                LTerm.append(Lemma)\n",
        "            else:\n",
        "                STerm = ' '.join(LTerm)\n",
        "                LTerm = []\n",
        "\n",
        "                try:\n",
        "                    self.DictFrq[STerm] += 1\n",
        "                except:\n",
        "                    self.DictFrq[STerm] = 1        \n",
        "\n",
        "        return\n"
      ],
      "execution_count": 9,
      "outputs": []
    },
    {
      "cell_type": "code",
      "metadata": {
        "id": "P6ZCzYpfeeiw"
      },
      "source": [
        "def printDict(DictionaryFrq, FileOut):\n",
        "    for Word, Frq in sorted( DictionaryFrq.items() , key=lambda x: x[1], reverse=True):\n",
        "        if re.search(' ', Word):\n",
        "            FileOut.write(Word + '\\t' + str(Frq) + '\\n')"
      ],
      "execution_count": 10,
      "outputs": []
    },
    {
      "cell_type": "code",
      "metadata": {
        "id": "m1ipmwCLRu42"
      },
      "source": [
        "!wget https://heibox.uni-heidelberg.de/f/dcffd5d1d4be4450820d/?dl=1\n",
        "!mv index.html?dl=1 humanrights02_poslem.txt\n",
        "\n",
        "\n",
        "!wget https://heibox.uni-heidelberg.de/f/a17c2a66abd54bb5931e/?dl=1\n",
        "!mv index.html?dl=1 ted02_poslem.txt\n",
        "\n",
        "\n",
        "!wget https://heibox.uni-heidelberg.de/f/8bdb74940e9b4485b4fb/?dl=1\n",
        "!mv index.html?dl=1 brown02_poslem.txt\n",
        "\n",
        "!wget https://heibox.uni-heidelberg.de/f/0768cbea4ef040dbb0e2/?dl=1\n",
        "!mv index.html?dl=1 go1984_poslem.txt"
      ],
      "execution_count": null,
      "outputs": []
    },
    {
      "cell_type": "code",
      "metadata": {
        "id": "mSnEHM7ed0LP"
      },
      "source": [
        "!head --lines=10 humanrights02_poslem.txt"
      ],
      "execution_count": null,
      "outputs": []
    },
    {
      "cell_type": "code",
      "metadata": {
        "id": "CoppFOvZTSdV"
      },
      "source": [
        "FInHumanRightsTT = open('humanrights02_poslem.txt', 'r')\n",
        "FOutHumanRightsTT = open('humanrights02_terms.txt', 'w')\n",
        "\n",
        "OCorpus = clProcCorpus(FInHumanRightsTT)\n",
        "DictionaryFrq = OCorpus.DictFrq\n",
        "printDict(DictionaryFrq, FOutHumanRightsTT)"
      ],
      "execution_count": 16,
      "outputs": []
    },
    {
      "cell_type": "code",
      "metadata": {
        "id": "y1qgUA3KVHrq"
      },
      "source": [
        "\n",
        "FInTEDCorpusTT = open('ted02_poslem.txt', 'r')\n",
        "FOutTEDCorpusTT = open('ted02_terms.txt', 'w')\n",
        "\n",
        "\n",
        "OCorpus = clProcCorpus(FInTEDCorpusTT)\n",
        "DictionaryFrq = OCorpus.DictFrq\n",
        "printDict(DictionaryFrq, FOutTEDCorpusTT)"
      ],
      "execution_count": 17,
      "outputs": []
    },
    {
      "cell_type": "code",
      "metadata": {
        "id": "jQpWWM8fVLMo"
      },
      "source": [
        "\n",
        "FInBrownCorpusTT = open('brown02_poslem.txt', 'r')\n",
        "FOutBrownCorpusTT = open('brown02_terms.txt', 'w')\n",
        "\n",
        "\n",
        "OCorpus = clProcCorpus(FInBrownCorpusTT)\n",
        "DictionaryFrq = OCorpus.DictFrq\n",
        "printDict(DictionaryFrq, FOutBrownCorpusTT)"
      ],
      "execution_count": 18,
      "outputs": []
    },
    {
      "cell_type": "code",
      "metadata": {
        "id": "4XAiKxQjVMSf"
      },
      "source": [
        "\n",
        "FInGO1984CorpusTT = open('go1984_poslem.txt', 'r')\n",
        "FOutGO1984CorpusTT = open('go1984_terms.txt', 'w')\n",
        "\n",
        "\n",
        "OCorpus = clProcCorpus(FInGO1984CorpusTT)\n",
        "DictionaryFrq = OCorpus.DictFrq\n",
        "printDict(DictionaryFrq, FOutGO1984CorpusTT)"
      ],
      "execution_count": 19,
      "outputs": []
    },
    {
      "cell_type": "code",
      "metadata": {
        "id": "CniqwrKQevXs"
      },
      "source": [
        "\n",
        "\n",
        "OCorpus = clProcCorpus(FInHumanRightsTT)\n",
        "DictionaryFrq = OCorpus.DictFrq\n",
        "printDict(DictionaryFrq, FileOut)"
      ],
      "execution_count": null,
      "outputs": []
    }
  ]
}