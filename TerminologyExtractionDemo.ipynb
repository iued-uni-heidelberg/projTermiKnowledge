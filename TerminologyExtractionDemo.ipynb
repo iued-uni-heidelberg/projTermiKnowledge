{
  "nbformat": 4,
  "nbformat_minor": 0,
  "metadata": {
    "colab": {
      "name": "TerminologyExtractionDemo.ipynb",
      "provenance": [],
      "authorship_tag": "ABX9TyPivO+++xBUibk555durwda",
      "include_colab_link": true
    },
    "kernelspec": {
      "name": "python3",
      "display_name": "Python 3"
    },
    "language_info": {
      "name": "python"
    }
  },
  "cells": [
    {
      "cell_type": "markdown",
      "metadata": {
        "id": "view-in-github",
        "colab_type": "text"
      },
      "source": [
        "<a href=\"https://colab.research.google.com/github/iued-uni-heidelberg/projTermiKnowledge/blob/main/TerminologyExtractionDemo.ipynb\" target=\"_parent\"><img src=\"https://colab.research.google.com/assets/colab-badge.svg\" alt=\"Open In Colab\"/></a>"
      ]
    },
    {
      "cell_type": "code",
      "metadata": {
        "colab": {
          "base_uri": "https://localhost:8080/"
        },
        "id": "c7v4xdZnB2Dz",
        "outputId": "4c391608-855e-4575-eb60-f13f88e95d82"
      },
      "source": [
        "!chmod a+x ./tree-tagger\n",
        "!perl utf8-tokenize.perl < README.txt | ./tree-tagger -token -lemma -no-unknown -sgml english-utf8.par >README_LEM.txt"
      ],
      "execution_count": 3,
      "outputs": [
        {
          "output_type": "stream",
          "name": "stdout",
          "text": [
            "/bin/bash: ./tree-tagger: cannot execute binary file: Exec format error\n"
          ]
        }
      ]
    },
    {
      "cell_type": "code",
      "metadata": {
        "id": "mnwl_6HIET-z"
      },
      "source": [
        "%%bash\n",
        "mkdir treetagger\n",
        "cd treetagger\n",
        "# Download the tagger package for your system (PC-Linux, Mac OS-X, ARM64, ARMHF, ARM-Android, PPC64le-Linux).\n",
        "wget https://cis.lmu.de/~schmid/tools/TreeTagger/data/tree-tagger-linux-3.2.4.tar.gz\n",
        "tar -xzvf tree-tagger-linux-3.2.4.tar.gz\n",
        "# Download the tagging scripts into the same directory.\n",
        "wget https://cis.lmu.de/~schmid/tools/TreeTagger/data/tagger-scripts.tar.gz\n",
        "gunzip tagger-scripts.tar.gz\n",
        "# Download the installation script install-tagger.sh.\n",
        "wget https://cis.lmu.de/~schmid/tools/TreeTagger/data/install-tagger.sh\n",
        "# Download the parameter files for the languages you want to process.\n",
        "# list of all files (parameter files) https://cis.lmu.de/~schmid/tools/TreeTagger/#parfiles\n",
        "wget https://cis.lmu.de/~schmid/tools/TreeTagger/data/english.par.gz\n",
        "sh install-tagger.sh\n",
        "cd ..\n",
        "sudo pip install treetaggerwrapper"
      ],
      "execution_count": null,
      "outputs": []
    },
    {
      "cell_type": "code",
      "metadata": {
        "colab": {
          "base_uri": "https://localhost:8080/"
        },
        "id": "S4RMJcjoEgXM",
        "outputId": "9b17cb21-f120-42c0-943c-c8a0bc45c9b0"
      },
      "source": [
        "import treetaggerwrapper\n",
        "treetaggerwrapper.TreeTagger(TAGLANG='en', TAGDIR='treetagger/')"
      ],
      "execution_count": 10,
      "outputs": [
        {
          "output_type": "stream",
          "name": "stderr",
          "text": [
            "/usr/local/lib/python3.7/dist-packages/treetaggerwrapper.py:740: FutureWarning: Possible nested set at position 8\n",
            "  re.IGNORECASE | re.VERBOSE)\n",
            "/usr/local/lib/python3.7/dist-packages/treetaggerwrapper.py:2044: FutureWarning: Possible nested set at position 152\n",
            "  re.VERBOSE | re.IGNORECASE)\n",
            "/usr/local/lib/python3.7/dist-packages/treetaggerwrapper.py:2067: FutureWarning: Possible nested set at position 409\n",
            "  UrlMatch_re = re.compile(UrlMatch_expression, re.VERBOSE | re.IGNORECASE)\n",
            "/usr/local/lib/python3.7/dist-packages/treetaggerwrapper.py:2079: FutureWarning: Possible nested set at position 192\n",
            "  EmailMatch_re = re.compile(EmailMatch_expression, re.VERBOSE | re.IGNORECASE)\n"
          ]
        },
        {
          "output_type": "execute_result",
          "data": {
            "text/plain": [
              "<treetaggerwrapper.TreeTagger at 0x7fc6950a41d0>"
            ]
          },
          "metadata": {},
          "execution_count": 10
        }
      ]
    },
    {
      "cell_type": "code",
      "metadata": {
        "colab": {
          "base_uri": "https://localhost:8080/"
        },
        "id": "CHptXzfcE7ex",
        "outputId": "6c07dbb7-ed75-4259-f0cd-91cd28da18fe"
      },
      "source": [
        "!sudo pip install treetaggerwrapper"
      ],
      "execution_count": 7,
      "outputs": [
        {
          "output_type": "stream",
          "name": "stdout",
          "text": [
            "Requirement already satisfied: treetaggerwrapper in /usr/local/lib/python3.7/dist-packages (2.3)\n"
          ]
        }
      ]
    },
    {
      "cell_type": "code",
      "metadata": {
        "id": "g1P5lBnaFS9_"
      },
      "source": [
        "import pprint"
      ],
      "execution_count": 11,
      "outputs": []
    },
    {
      "cell_type": "code",
      "metadata": {
        "id": "c2xZ5XKTFURW"
      },
      "source": [
        "tagger = treetaggerwrapper.TreeTagger(TAGLANG='en', TAGDIR='treetagger/')"
      ],
      "execution_count": 12,
      "outputs": []
    },
    {
      "cell_type": "code",
      "metadata": {
        "id": "TuP3y32_FgNU"
      },
      "source": [
        "tags = tagger.tag_text(\"This is a very short text to tag.\")"
      ],
      "execution_count": 13,
      "outputs": []
    },
    {
      "cell_type": "code",
      "metadata": {
        "colab": {
          "base_uri": "https://localhost:8080/"
        },
        "id": "Hux0OTkrFhb_",
        "outputId": "5fa33044-230e-4e1e-d1e8-c7a50f91614f"
      },
      "source": [
        "pprint.pprint(tags)"
      ],
      "execution_count": 14,
      "outputs": [
        {
          "output_type": "stream",
          "name": "stdout",
          "text": [
            "['This\\tDT\\tthis',\n",
            " 'is\\tVBZ\\tbe',\n",
            " 'a\\tDT\\ta',\n",
            " 'very\\tRB\\tvery',\n",
            " 'short\\tJJ\\tshort',\n",
            " 'text\\tNN\\ttext',\n",
            " 'to\\tTO\\tto',\n",
            " 'tag\\tVV\\ttag',\n",
            " '.\\tSENT\\t.']\n"
          ]
        }
      ]
    },
    {
      "cell_type": "code",
      "metadata": {
        "id": "gvAJoXbZFjPE"
      },
      "source": [
        ""
      ],
      "execution_count": null,
      "outputs": []
    }
  ]
}